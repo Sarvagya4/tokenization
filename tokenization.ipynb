{
  "nbformat": 4,
  "nbformat_minor": 0,
  "metadata": {
    "colab": {
      "provenance": [],
      "authorship_tag": "ABX9TyNLCsE/o3bx76zTz4JGJqC7",
      "include_colab_link": true
    },
    "kernelspec": {
      "name": "python3",
      "display_name": "Python 3"
    },
    "language_info": {
      "name": "python"
    }
  },
  "cells": [
    {
      "cell_type": "markdown",
      "metadata": {
        "id": "view-in-github",
        "colab_type": "text"
      },
      "source": [
        "<a href=\"https://colab.research.google.com/github/Sarvagya4/tokenization/blob/main/tokenization.ipynb\" target=\"_parent\"><img src=\"https://colab.research.google.com/assets/colab-badge.svg\" alt=\"Open In Colab\"/></a>"
      ]
    },
    {
      "cell_type": "code",
      "execution_count": 1,
      "metadata": {
        "colab": {
          "base_uri": "https://localhost:8080/"
        },
        "id": "hPEHDzz695_s",
        "outputId": "fdb9361c-991f-4944-8266-762d9da50e71"
      },
      "outputs": [
        {
          "output_type": "stream",
          "name": "stdout",
          "text": [
            "Requirement already satisfied: nltk in /usr/local/lib/python3.10/dist-packages (3.8.1)\n",
            "Requirement already satisfied: click in /usr/local/lib/python3.10/dist-packages (from nltk) (8.1.7)\n",
            "Requirement already satisfied: joblib in /usr/local/lib/python3.10/dist-packages (from nltk) (1.4.2)\n",
            "Requirement already satisfied: regex>=2021.8.3 in /usr/local/lib/python3.10/dist-packages (from nltk) (2024.5.15)\n",
            "Requirement already satisfied: tqdm in /usr/local/lib/python3.10/dist-packages (from nltk) (4.66.5)\n"
          ]
        }
      ],
      "source": [
        "!pip install nltk"
      ]
    },
    {
      "cell_type": "code",
      "source": [
        "corpus = \"\"\" Heyy yo this is sarvagya tayal learning new things hehehehe.\n",
        "love car and hills!.\n",
        "coding also\n",
        "\"\"\""
      ],
      "metadata": {
        "id": "S3VAVtCV9-_h"
      },
      "execution_count": 5,
      "outputs": []
    },
    {
      "cell_type": "code",
      "source": [
        "print(corpus)"
      ],
      "metadata": {
        "colab": {
          "base_uri": "https://localhost:8080/"
        },
        "id": "hTuTt1uh-0s_",
        "outputId": "7863cc6d-3125-4faa-a1a7-05a7fc801480"
      },
      "execution_count": 6,
      "outputs": [
        {
          "output_type": "stream",
          "name": "stdout",
          "text": [
            " Heyy yo this is sarvagya tayal learning new things hehehehe.\n",
            "love car and hills!.\n",
            "coding also\n",
            "\n"
          ]
        }
      ]
    },
    {
      "cell_type": "code",
      "source": [
        "import nltk\n",
        "nltk.download('punkt')\n",
        "from nltk.tokenize import sent_tokenize"
      ],
      "metadata": {
        "colab": {
          "base_uri": "https://localhost:8080/"
        },
        "id": "RiSJjKt6-3uA",
        "outputId": "7b623389-58b1-43fc-c7a3-2d314abf2be2"
      },
      "execution_count": 11,
      "outputs": [
        {
          "output_type": "stream",
          "name": "stderr",
          "text": [
            "[nltk_data] Downloading package punkt to /root/nltk_data...\n",
            "[nltk_data]   Unzipping tokenizers/punkt.zip.\n"
          ]
        }
      ]
    },
    {
      "cell_type": "code",
      "source": [
        "documents=sent_tokenize(corpus)"
      ],
      "metadata": {
        "id": "aY6lso1J_Rl7"
      },
      "execution_count": 12,
      "outputs": []
    },
    {
      "cell_type": "code",
      "source": [
        "type(documents)"
      ],
      "metadata": {
        "colab": {
          "base_uri": "https://localhost:8080/"
        },
        "id": "5vJHo9sk_Vhx",
        "outputId": "158b2ea1-41aa-4099-9a67-d669c9d0ceb2"
      },
      "execution_count": 13,
      "outputs": [
        {
          "output_type": "execute_result",
          "data": {
            "text/plain": [
              "list"
            ]
          },
          "metadata": {},
          "execution_count": 13
        }
      ]
    },
    {
      "cell_type": "code",
      "source": [
        "for sentence in documents:\n",
        "  print(sentence)"
      ],
      "metadata": {
        "colab": {
          "base_uri": "https://localhost:8080/"
        },
        "id": "vGr_knAWBRIE",
        "outputId": "5c1ea653-9e2b-4b52-9fd6-aaa5ad3c1cd4"
      },
      "execution_count": 14,
      "outputs": [
        {
          "output_type": "stream",
          "name": "stdout",
          "text": [
            " Heyy yo this is sarvagya tayal learning new things hehehehe.\n",
            "love car and hills!.\n",
            "coding also\n"
          ]
        }
      ]
    },
    {
      "cell_type": "code",
      "source": [
        "from nltk.tokenize import word_tokenize"
      ],
      "metadata": {
        "id": "nC1nbOC6BXvU"
      },
      "execution_count": 15,
      "outputs": []
    },
    {
      "cell_type": "code",
      "source": [
        "word_tokenize(corpus)"
      ],
      "metadata": {
        "colab": {
          "base_uri": "https://localhost:8080/"
        },
        "id": "FEk4_-_oBgDn",
        "outputId": "a2a59984-7917-4ca3-e2b1-d79add1bd47b"
      },
      "execution_count": 16,
      "outputs": [
        {
          "output_type": "execute_result",
          "data": {
            "text/plain": [
              "['Heyy',\n",
              " 'yo',\n",
              " 'this',\n",
              " 'is',\n",
              " 'sarvagya',\n",
              " 'tayal',\n",
              " 'learning',\n",
              " 'new',\n",
              " 'things',\n",
              " 'hehehehe',\n",
              " '.',\n",
              " 'love',\n",
              " 'car',\n",
              " 'and',\n",
              " 'hills',\n",
              " '!',\n",
              " '.',\n",
              " 'coding',\n",
              " 'also']"
            ]
          },
          "metadata": {},
          "execution_count": 16
        }
      ]
    },
    {
      "cell_type": "code",
      "source": [
        "for sentence in documents:\n",
        "  print(word_tokenize(corpus))\n"
      ],
      "metadata": {
        "colab": {
          "base_uri": "https://localhost:8080/"
        },
        "id": "oqPULL7rBka-",
        "outputId": "bbf90134-1150-4e73-e7be-9648a417ce26"
      },
      "execution_count": 17,
      "outputs": [
        {
          "output_type": "stream",
          "name": "stdout",
          "text": [
            "['Heyy', 'yo', 'this', 'is', 'sarvagya', 'tayal', 'learning', 'new', 'things', 'hehehehe', '.', 'love', 'car', 'and', 'hills', '!', '.', 'coding', 'also']\n",
            "['Heyy', 'yo', 'this', 'is', 'sarvagya', 'tayal', 'learning', 'new', 'things', 'hehehehe', '.', 'love', 'car', 'and', 'hills', '!', '.', 'coding', 'also']\n",
            "['Heyy', 'yo', 'this', 'is', 'sarvagya', 'tayal', 'learning', 'new', 'things', 'hehehehe', '.', 'love', 'car', 'and', 'hills', '!', '.', 'coding', 'also']\n"
          ]
        }
      ]
    },
    {
      "cell_type": "code",
      "source": [
        "for sentence in documents:\n",
        "  print(word_tokenize(sentence))\n"
      ],
      "metadata": {
        "colab": {
          "base_uri": "https://localhost:8080/"
        },
        "id": "7Nsd2YYlB2xu",
        "outputId": "98c3a360-11c2-49e2-9ed3-cfd0df180774"
      },
      "execution_count": 18,
      "outputs": [
        {
          "output_type": "stream",
          "name": "stdout",
          "text": [
            "['Heyy', 'yo', 'this', 'is', 'sarvagya', 'tayal', 'learning', 'new', 'things', 'hehehehe', '.']\n",
            "['love', 'car', 'and', 'hills', '!', '.']\n",
            "['coding', 'also']\n"
          ]
        }
      ]
    },
    {
      "cell_type": "code",
      "source": [
        "from nltk.tokenize import wordpunct_tokenize"
      ],
      "metadata": {
        "id": "IUQl-rXBB_0V"
      },
      "execution_count": 19,
      "outputs": []
    },
    {
      "cell_type": "code",
      "source": [
        "wordpunct_tokenize(corpus)"
      ],
      "metadata": {
        "colab": {
          "base_uri": "https://localhost:8080/"
        },
        "id": "bU_mMR5lCLlK",
        "outputId": "6eebe10d-7495-46d6-e9f6-d8bc6a25dd31"
      },
      "execution_count": 20,
      "outputs": [
        {
          "output_type": "execute_result",
          "data": {
            "text/plain": [
              "['Heyy',\n",
              " 'yo',\n",
              " 'this',\n",
              " 'is',\n",
              " 'sarvagya',\n",
              " 'tayal',\n",
              " 'learning',\n",
              " 'new',\n",
              " 'things',\n",
              " 'hehehehe',\n",
              " '.',\n",
              " 'love',\n",
              " 'car',\n",
              " 'and',\n",
              " 'hills',\n",
              " '!.',\n",
              " 'coding',\n",
              " 'also']"
            ]
          },
          "metadata": {},
          "execution_count": 20
        }
      ]
    },
    {
      "cell_type": "code",
      "source": [
        "from nltk.tokenize import TreebankWordDetokenizer"
      ],
      "metadata": {
        "id": "c1hkBO06CSC2"
      },
      "execution_count": 21,
      "outputs": []
    },
    {
      "cell_type": "code",
      "source": [
        "tokenizer=TreebankWordDetokenizer()"
      ],
      "metadata": {
        "id": "LWBZuz6CCbjf"
      },
      "execution_count": 22,
      "outputs": []
    },
    {
      "cell_type": "code",
      "source": [
        "tokenizer.tokenize(corpus)"
      ],
      "metadata": {
        "colab": {
          "base_uri": "https://localhost:8080/",
          "height": 53
        },
        "id": "qumiUhe7Cjkn",
        "outputId": "27bae05e-b9d6-413e-e941-7aa41529bd98"
      },
      "execution_count": 23,
      "outputs": [
        {
          "output_type": "execute_result",
          "data": {
            "text/plain": [
              "'H e y y   y o   t h i s   i s   s a r v a g y a   t a y a l   l e a r n i n g   n e w   t h i n g s   h e h e h e h e . \\n l o v e   c a r   a n d   h i l l s! . \\n c o d i n g   a l s o'"
            ],
            "application/vnd.google.colaboratory.intrinsic+json": {
              "type": "string"
            }
          },
          "metadata": {},
          "execution_count": 23
        }
      ]
    },
    {
      "cell_type": "code",
      "source": [],
      "metadata": {
        "id": "L5LxjSLsCo6s"
      },
      "execution_count": null,
      "outputs": []
    }
  ]
}